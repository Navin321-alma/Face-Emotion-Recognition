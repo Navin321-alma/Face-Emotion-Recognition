{
  "nbformat": 4,
  "nbformat_minor": 0,
  "metadata": {
    "accelerator": "GPU",
    "colab": {
      "name": "fer_final",
      "provenance": [],
      "authorship_tag": "ABX9TyMA+PJFthqEYplgC/eQWGOx",
      "include_colab_link": true
    },
    "kernelspec": {
      "display_name": "Python 3",
      "name": "python3"
    },
    "language_info": {
      "name": "python"
    }
  },
  "cells": [
    {
      "cell_type": "markdown",
      "metadata": {
        "id": "view-in-github",
        "colab_type": "text"
      },
      "source": [
        "<a href=\"https://colab.research.google.com/github/Navin321-alma/Face-Emotion-Recognition/blob/main/fer_final.ipynb\" target=\"_parent\"><img src=\"https://colab.research.google.com/assets/colab-badge.svg\" alt=\"Open In Colab\"/></a>"
      ]
    },
    {
      "cell_type": "markdown",
      "metadata": {
        "id": "Isyt-d--EXGt"
      },
      "source": [
        "#**Mounting drive,importing libraries and reading dataset**"
      ]
    },
    {
      "cell_type": "code",
      "metadata": {
        "colab": {
          "base_uri": "https://localhost:8080/"
        },
        "id": "ERaM5NMsm0tM",
        "outputId": "976459e6-c7b0-480b-feaa-da6546eebb37"
      },
      "source": [
        "#mounting to drive\n",
        "from google.colab import drive\n",
        "drive.mount('/content/drive')"
      ],
      "execution_count": 1,
      "outputs": [
        {
          "output_type": "stream",
          "name": "stdout",
          "text": [
            "Mounted at /content/drive\n"
          ]
        }
      ]
    },
    {
      "cell_type": "code",
      "metadata": {
        "id": "v1eEzVOIm4qH"
      },
      "source": [
        "#importing libraries\n",
        "import numpy as np \n",
        "import pandas as pd \n",
        "import cv2"
      ],
      "execution_count": 2,
      "outputs": []
    },
    {
      "cell_type": "code",
      "metadata": {
        "id": "GUHlesTwnhDF"
      },
      "source": [
        "df = pd.read_csv('/content/drive/MyDrive/facial expression/fer2013/fer2013.csv')"
      ],
      "execution_count": 3,
      "outputs": []
    },
    {
      "cell_type": "code",
      "metadata": {
        "colab": {
          "base_uri": "https://localhost:8080/",
          "height": 206
        },
        "id": "OmIRhazJnrJj",
        "outputId": "a1b01993-4701-4286-8b81-74c926678898"
      },
      "source": [
        "# it gives first five rows of dataset \n",
        "df.head()"
      ],
      "execution_count": 4,
      "outputs": [
        {
          "output_type": "execute_result",
          "data": {
            "text/html": [
              "<div>\n",
              "<style scoped>\n",
              "    .dataframe tbody tr th:only-of-type {\n",
              "        vertical-align: middle;\n",
              "    }\n",
              "\n",
              "    .dataframe tbody tr th {\n",
              "        vertical-align: top;\n",
              "    }\n",
              "\n",
              "    .dataframe thead th {\n",
              "        text-align: right;\n",
              "    }\n",
              "</style>\n",
              "<table border=\"1\" class=\"dataframe\">\n",
              "  <thead>\n",
              "    <tr style=\"text-align: right;\">\n",
              "      <th></th>\n",
              "      <th>emotion</th>\n",
              "      <th>pixels</th>\n",
              "      <th>Usage</th>\n",
              "    </tr>\n",
              "  </thead>\n",
              "  <tbody>\n",
              "    <tr>\n",
              "      <th>0</th>\n",
              "      <td>0</td>\n",
              "      <td>70 80 82 72 58 58 60 63 54 58 60 48 89 115 121...</td>\n",
              "      <td>Training</td>\n",
              "    </tr>\n",
              "    <tr>\n",
              "      <th>1</th>\n",
              "      <td>0</td>\n",
              "      <td>151 150 147 155 148 133 111 140 170 174 182 15...</td>\n",
              "      <td>Training</td>\n",
              "    </tr>\n",
              "    <tr>\n",
              "      <th>2</th>\n",
              "      <td>2</td>\n",
              "      <td>231 212 156 164 174 138 161 173 182 200 106 38...</td>\n",
              "      <td>Training</td>\n",
              "    </tr>\n",
              "    <tr>\n",
              "      <th>3</th>\n",
              "      <td>4</td>\n",
              "      <td>24 32 36 30 32 23 19 20 30 41 21 22 32 34 21 1...</td>\n",
              "      <td>Training</td>\n",
              "    </tr>\n",
              "    <tr>\n",
              "      <th>4</th>\n",
              "      <td>6</td>\n",
              "      <td>4 0 0 0 0 0 0 0 0 0 0 0 3 15 23 28 48 50 58 84...</td>\n",
              "      <td>Training</td>\n",
              "    </tr>\n",
              "  </tbody>\n",
              "</table>\n",
              "</div>"
            ],
            "text/plain": [
              "   emotion                                             pixels     Usage\n",
              "0        0  70 80 82 72 58 58 60 63 54 58 60 48 89 115 121...  Training\n",
              "1        0  151 150 147 155 148 133 111 140 170 174 182 15...  Training\n",
              "2        2  231 212 156 164 174 138 161 173 182 200 106 38...  Training\n",
              "3        4  24 32 36 30 32 23 19 20 30 41 21 22 32 34 21 1...  Training\n",
              "4        6  4 0 0 0 0 0 0 0 0 0 0 0 3 15 23 28 48 50 58 84...  Training"
            ]
          },
          "metadata": {},
          "execution_count": 4
        }
      ]
    },
    {
      "cell_type": "code",
      "metadata": {
        "colab": {
          "base_uri": "https://localhost:8080/"
        },
        "id": "KyUNZCVNnuAh",
        "outputId": "929dd71c-cb99-4f79-92fa-3e0f31f506dd"
      },
      "source": [
        "# length of a pixels \n",
        "len(df.iloc[0]['pixels'].split())\n",
        "# 48 * 48"
      ],
      "execution_count": 5,
      "outputs": [
        {
          "output_type": "execute_result",
          "data": {
            "text/plain": [
              "2304"
            ]
          },
          "metadata": {},
          "execution_count": 5
        }
      ]
    },
    {
      "cell_type": "code",
      "metadata": {
        "id": "X3RfItp1nyAs"
      },
      "source": [
        "# labelling of emotion\n",
        "label_map = ['Anger', 'Neutral', 'Fear', 'Happy', 'Sad', 'Surprise']"
      ],
      "execution_count": 6,
      "outputs": []
    },
    {
      "cell_type": "code",
      "metadata": {
        "id": "sdgpOA3Cn2LV"
      },
      "source": [
        "import matplotlib.pyplot as plt"
      ],
      "execution_count": 7,
      "outputs": []
    },
    {
      "cell_type": "code",
      "metadata": {
        "id": "PagMyq9jn4lp"
      },
      "source": [
        "img = df.iloc[0]['pixels'].split()"
      ],
      "execution_count": 8,
      "outputs": []
    },
    {
      "cell_type": "code",
      "metadata": {
        "id": "R8DUcQUMn6n4"
      },
      "source": [
        "img = [int(i) for i in img]"
      ],
      "execution_count": 9,
      "outputs": []
    },
    {
      "cell_type": "code",
      "metadata": {
        "colab": {
          "base_uri": "https://localhost:8080/"
        },
        "id": "85AL4u_Pn9RW",
        "outputId": "b6abc219-b745-4cc0-ea62-291b3fbfb065"
      },
      "source": [
        "type(img[0])"
      ],
      "execution_count": 10,
      "outputs": [
        {
          "output_type": "execute_result",
          "data": {
            "text/plain": [
              "int"
            ]
          },
          "metadata": {},
          "execution_count": 10
        }
      ]
    },
    {
      "cell_type": "code",
      "metadata": {
        "colab": {
          "base_uri": "https://localhost:8080/"
        },
        "id": "Q9GxxIWQoRyJ",
        "outputId": "7066903c-15cc-408f-ebf4-d8e23acbfe28"
      },
      "source": [
        "len(img)"
      ],
      "execution_count": 11,
      "outputs": [
        {
          "output_type": "execute_result",
          "data": {
            "text/plain": [
              "2304"
            ]
          },
          "metadata": {},
          "execution_count": 11
        }
      ]
    },
    {
      "cell_type": "code",
      "metadata": {
        "id": "Khd_aa7PoXtY"
      },
      "source": [
        "img = np.array(img)"
      ],
      "execution_count": 12,
      "outputs": []
    },
    {
      "cell_type": "code",
      "metadata": {
        "id": "F6kZ23t9ocFO"
      },
      "source": [
        "img = img.reshape(48,48)"
      ],
      "execution_count": 13,
      "outputs": []
    },
    {
      "cell_type": "code",
      "metadata": {
        "colab": {
          "base_uri": "https://localhost:8080/"
        },
        "id": "5yfptzshoduD",
        "outputId": "40c2e714-6ec0-4bac-c564-88873a221af7"
      },
      "source": [
        "img.shape"
      ],
      "execution_count": 14,
      "outputs": [
        {
          "output_type": "execute_result",
          "data": {
            "text/plain": [
              "(48, 48)"
            ]
          },
          "metadata": {},
          "execution_count": 14
        }
      ]
    },
    {
      "cell_type": "code",
      "metadata": {
        "colab": {
          "base_uri": "https://localhost:8080/",
          "height": 298
        },
        "id": "AI1HcKeGofUL",
        "outputId": "f6781628-3746-4f50-af82-e2753dddca5d"
      },
      "source": [
        "#plotting a image \n",
        "plt.imshow(img, cmap='gray')\n",
        "plt.xlabel(df.iloc[0]['emotion'])"
      ],
      "execution_count": 15,
      "outputs": [
        {
          "output_type": "execute_result",
          "data": {
            "text/plain": [
              "Text(0.5, 0, '0')"
            ]
          },
          "metadata": {},
          "execution_count": 15
        },
        {
          "output_type": "display_data",
          "data": {
            "image/png": "[encoded data removed]",
            "text/plain": [
              "<Figure size 432x288 with 1 Axes>"
            ]
          },
          "metadata": {
            "needs_background": "light"
          }
        }
      ]
    },
    {
      "cell_type": "code",
      "metadata": {
        "id": "hTPL8R_xohJE"
      },
      "source": [
        "X = []\n",
        "y = []"
      ],
      "execution_count": 16,
      "outputs": []
    },
    {
      "cell_type": "markdown",
      "metadata": {
        "id": "yzsLljMGEoLY"
      },
      "source": [
        "#**Setting labels for different emotions**"
      ]
    },
    {
      "cell_type": "code",
      "metadata": {
        "id": "xMowKx6zoj-B"
      },
      "source": [
        "# setting different labels to different emotion\n",
        "def getData(path):\n",
        "    anger = 0\n",
        "    fear = 0\n",
        "    sad = 0\n",
        "    happy = 0\n",
        "    surprise = 0\n",
        "    neutral = 0\n",
        "    df = pd.read_csv(path)\n",
        "    \n",
        "    X = []\n",
        "    y = []    \n",
        "    \n",
        "    for i in range(len(df)):\n",
        "        if df.iloc[i]['emotion'] != 1:\n",
        "            if df.iloc[i]['emotion'] == 0:\n",
        "                if anger <= 4000:            \n",
        "                    y.append(df.iloc[i]['emotion'])\n",
        "                    im = df.iloc[i]['pixels']\n",
        "                    im = [int(x) for x in im.split()]\n",
        "                    X.append(im)\n",
        "                    anger += 1\n",
        "                else:\n",
        "                    pass\n",
        "                \n",
        "            if df.iloc[i]['emotion'] == 2:\n",
        "                if fear <= 4000:            \n",
        "                    y.append(df.iloc[i]['emotion'])\n",
        "                    im = df.iloc[i]['pixels']\n",
        "                    im = [int(x) for x in im.split()]\n",
        "                    X.append(im)\n",
        "                    fear += 1\n",
        "                else:\n",
        "                    pass\n",
        "                \n",
        "            if df.iloc[i]['emotion'] == 3:\n",
        "                if happy <= 4000:            \n",
        "                    y.append(df.iloc[i]['emotion'])\n",
        "                    im = df.iloc[i]['pixels']\n",
        "                    im = [int(x) for x in im.split()]\n",
        "                    X.append(im)\n",
        "                    happy += 1\n",
        "                else:\n",
        "                    pass\n",
        "                \n",
        "            if df.iloc[i]['emotion'] == 4:\n",
        "                if sad <= 4000:            \n",
        "                    y.append(df.iloc[i]['emotion'])\n",
        "                    im = df.iloc[i]['pixels']\n",
        "                    im = [int(x) for x in im.split()]\n",
        "                    X.append(im)\n",
        "                    sad += 1\n",
        "                else:\n",
        "                    pass\n",
        "                \n",
        "            if df.iloc[i]['emotion'] == 5:\n",
        "                if surprise <= 4000:            \n",
        "                    y.append(df.iloc[i]['emotion'])\n",
        "                    im = df.iloc[i]['pixels']\n",
        "                    im = [int(x) for x in im.split()]\n",
        "                    X.append(im)\n",
        "                    surprise += 1\n",
        "                else:\n",
        "                    pass\n",
        "                \n",
        "            if df.iloc[i]['emotion'] == 6:\n",
        "                if neutral <= 4000:            \n",
        "                    y.append(df.iloc[i]['emotion'])\n",
        "                    im = df.iloc[i]['pixels']\n",
        "                    im = [int(x) for x in im.split()]\n",
        "                    X.append(im)\n",
        "                    neutral += 1\n",
        "                else:\n",
        "                    pass\n",
        "\n",
        "            \n",
        "            \n",
        "    return X, y  \n",
        "    "
      ],
      "execution_count": 17,
      "outputs": []
    },
    {
      "cell_type": "code",
      "metadata": {
        "id": "v8iOxXTAoyge"
      },
      "source": [
        "# generating new dataset\n",
        "X, y = getData('/content/drive/MyDrive/facial expression/fer2013/fer2013.csv')"
      ],
      "execution_count": 18,
      "outputs": []
    },
    {
      "cell_type": "code",
      "metadata": {
        "colab": {
          "base_uri": "https://localhost:8080/"
        },
        "id": "Oy5JCE82pALH",
        "outputId": "ff792093-6499-4334-ee93-afbc92763ef6"
      },
      "source": [
        "np.unique(y, return_counts=True)"
      ],
      "execution_count": 19,
      "outputs": [
        {
          "output_type": "execute_result",
          "data": {
            "text/plain": [
              "(array([0, 2, 3, 4, 5, 6]), array([4001, 4001, 4001, 4001, 4001, 4001]))"
            ]
          },
          "metadata": {},
          "execution_count": 19
        }
      ]
    },
    {
      "cell_type": "code",
      "metadata": {
        "id": "mXUb7YBRpkfX"
      },
      "source": [
        "X = np.array(X)/255.0\n",
        "y = np.array(y)"
      ],
      "execution_count": 20,
      "outputs": []
    },
    {
      "cell_type": "code",
      "metadata": {
        "colab": {
          "base_uri": "https://localhost:8080/"
        },
        "id": "pKX8K2ykpp_I",
        "outputId": "1125e13b-4987-4068-9dd3-598d0b5cc212"
      },
      "source": [
        "# shape of X and y\n",
        "X.shape, y.shape"
      ],
      "execution_count": 21,
      "outputs": [
        {
          "output_type": "execute_result",
          "data": {
            "text/plain": [
              "((24006, 2304), (24006,))"
            ]
          },
          "metadata": {},
          "execution_count": 21
        }
      ]
    },
    {
      "cell_type": "code",
      "metadata": {
        "id": "jMAf8d0jpx20"
      },
      "source": [
        "y_o = []\n",
        "for i in y:\n",
        "    if i != 6:\n",
        "        y_o.append(i)\n",
        "        \n",
        "    else:\n",
        "        y_o.append(1)"
      ],
      "execution_count": 22,
      "outputs": []
    },
    {
      "cell_type": "code",
      "metadata": {
        "colab": {
          "base_uri": "https://localhost:8080/"
        },
        "id": "6DJC9Qw0p10s",
        "outputId": "6032892d-4d0a-45b3-967b-4acab51faa21"
      },
      "source": [
        "np.unique(y_o, return_counts=True)"
      ],
      "execution_count": 23,
      "outputs": [
        {
          "output_type": "execute_result",
          "data": {
            "text/plain": [
              "(array([0, 1, 2, 3, 4, 5]), array([4001, 4001, 4001, 4001, 4001, 4001]))"
            ]
          },
          "metadata": {},
          "execution_count": 23
        }
      ]
    },
    {
      "cell_type": "code",
      "metadata": {
        "colab": {
          "base_uri": "https://localhost:8080/",
          "height": 1000
        },
        "id": "h7lIN543pa8_",
        "outputId": "80479d0a-b3b7-437b-a75a-7631dd1ac130"
      },
      "source": [
        "# plotting five different images with their emotions name\n",
        "for i in range(5):\n",
        "    r = np.random.randint((1), 24000, 1)[0]\n",
        "    plt.figure()\n",
        "    plt.imshow(X[r].reshape(48,48), cmap='gray')\n",
        "    plt.xlabel(label_map[y_o[r]])"
      ],
      "execution_count": 24,
      "outputs": [
        {
          "output_type": "display_data",
          "data": {
            "image/png": "[encoded data removed]",
            "text/plain": [
              "<Figure size 432x288 with 1 Axes>"
            ]
          },
          "metadata": {
            "needs_background": "light"
          }
        },
        {
          "output_type": "display_data",
          "data": {
            "image/png": "[encoded data removed]",
            "text/plain": [
              "<Figure size 432x288 with 1 Axes>"
            ]
          },
          "metadata": {
            "needs_background": "light"
          }
        },
        {
          "output_type": "display_data",
          "data": {
            "image/png": "[encoded data removed]",
            "text/plain": [
              "<Figure size 432x288 with 1 Axes>"
            ]
          },
          "metadata": {
            "needs_background": "light"
          }
        },
        {
          "output_type": "display_data",
          "data": {
            "image/png": "[encoded data removed]",
            "text/plain": [
              "<Figure size 432x288 with 1 Axes>"
            ]
          },
          "metadata": {
            "needs_background": "light"
          }
        },
        {
          "output_type": "display_data",
          "data": {
            "image/png": "[encoded data removed]",
            "text/plain": [
              "<Figure size 432x288 with 1 Axes>"
            ]
          },
          "metadata": {
            "needs_background": "light"
          }
        }
      ]
    },
    {
      "cell_type": "code",
      "metadata": {
        "id": "SCJeQqYkpejO"
      },
      "source": [
        "X = X.reshape(len(X), 48, 48, 1)"
      ],
      "execution_count": 25,
      "outputs": []
    },
    {
      "cell_type": "code",
      "metadata": {
        "id": "6BDDDqu-p54H"
      },
      "source": [
        "# no_of_images, height, width, coloar_map"
      ],
      "execution_count": 26,
      "outputs": []
    },
    {
      "cell_type": "code",
      "metadata": {
        "colab": {
          "base_uri": "https://localhost:8080/"
        },
        "id": "v30j_zHbqD8X",
        "outputId": "d06e8af4-dabd-45b4-c9ca-a521c55973e4"
      },
      "source": [
        "X.shape"
      ],
      "execution_count": 27,
      "outputs": [
        {
          "output_type": "execute_result",
          "data": {
            "text/plain": [
              "(24006, 48, 48, 1)"
            ]
          },
          "metadata": {},
          "execution_count": 27
        }
      ]
    },
    {
      "cell_type": "code",
      "metadata": {
        "id": "7H9eg8XFqGDr"
      },
      "source": [
        "from tensorflow.keras.utils import to_categorical\n",
        "y_new = to_categorical(y_o, num_classes=6)"
      ],
      "execution_count": 28,
      "outputs": []
    },
    {
      "cell_type": "code",
      "metadata": {
        "colab": {
          "base_uri": "https://localhost:8080/"
        },
        "id": "lskbzU1qqIne",
        "outputId": "1ef37540-165a-45f6-bd5d-d708bb7c1def"
      },
      "source": [
        "len(y_o), y_new.shape"
      ],
      "execution_count": 29,
      "outputs": [
        {
          "output_type": "execute_result",
          "data": {
            "text/plain": [
              "(24006, (24006, 6))"
            ]
          },
          "metadata": {},
          "execution_count": 29
        }
      ]
    },
    {
      "cell_type": "code",
      "metadata": {
        "colab": {
          "base_uri": "https://localhost:8080/"
        },
        "id": "Vrb-q-sPqimh",
        "outputId": "cdbd024c-1fd7-40a9-ba12-be91d6d67a07"
      },
      "source": [
        "y_o[150], y_new[150]"
      ],
      "execution_count": 30,
      "outputs": [
        {
          "output_type": "execute_result",
          "data": {
            "text/plain": [
              "(0, array([1., 0., 0., 0., 0., 0.], dtype=float32))"
            ]
          },
          "metadata": {},
          "execution_count": 30
        }
      ]
    },
    {
      "cell_type": "markdown",
      "metadata": {
        "id": "dvsrscKtD5oM"
      },
      "source": [
        "#**Making Training and Validation Data**"
      ]
    },
    {
      "cell_type": "code",
      "metadata": {
        "id": "GLzqzQnEqkrw"
      },
      "source": [
        "# importing libraries for creating model\n",
        "from keras.models import Sequential\n",
        "from keras.layers import Dense , Activation , Dropout ,Flatten\n",
        "from keras.layers.convolutional import Conv2D\n",
        "from keras.layers.convolutional import MaxPooling2D\n",
        "from keras.metrics import categorical_accuracy\n",
        "from keras.models import model_from_json\n",
        "from keras.callbacks import ModelCheckpoint\n",
        "from keras.optimizers import *\n",
        "from tensorflow.keras.layers import BatchNormalization"
      ],
      "execution_count": 31,
      "outputs": []
    },
    {
      "cell_type": "code",
      "metadata": {
        "id": "TTu8vgEgrAjc"
      },
      "source": [
        "# adding convolutional layers with activation functions (relu) and max pooling\n",
        "model = Sequential()\n",
        "\n",
        "\n",
        "input_shape = (48,48,1)\n",
        "\n",
        "\n",
        "model.add(Conv2D(64, (5, 5), input_shape=input_shape,activation='relu', padding='same'))\n",
        "model.add(Conv2D(64, (5, 5), padding='same'))\n",
        "model.add(BatchNormalization())\n",
        "model.add(Activation('relu'))\n",
        "model.add(MaxPooling2D(pool_size=(2, 2)))\n",
        "\n",
        "\n",
        "model.add(Conv2D(128, (5, 5),activation='relu',padding='same'))\n",
        "model.add(Conv2D(128, (5, 5),padding='same'))\n",
        "model.add(BatchNormalization())\n",
        "model.add(Activation('relu'))\n",
        "model.add(MaxPooling2D(pool_size=(2, 2)))\n",
        "\n",
        "model.add(Conv2D(256, (3, 3),activation='relu',padding='same'))\n",
        "model.add(Conv2D(256, (3, 3),activation='relu',padding='same'))\n",
        "model.add(BatchNormalization())\n",
        "model.add(MaxPooling2D(pool_size=(2, 2)))\n",
        "\n",
        "## (15, 15) --->  30\n",
        "model.add(Flatten())\n",
        "model.add(Dense(6, activation='softmax'))\n",
        "\n",
        "model.compile(loss='categorical_crossentropy', metrics=['accuracy'],optimizer='adam')"
      ],
      "execution_count": 32,
      "outputs": []
    },
    {
      "cell_type": "code",
      "metadata": {
        "colab": {
          "base_uri": "https://localhost:8080/"
        },
        "id": "GZR0i2TY0BBd",
        "outputId": "8126c250-02ac-4fce-de13-23d860cf7450"
      },
      "source": [
        "# printing model summary\n",
        "model.summary()"
      ],
      "execution_count": 33,
      "outputs": [
        {
          "output_type": "stream",
          "name": "stdout",
          "text": [
            "Model: \"sequential\"\n",
            "_________________________________________________________________\n",
            " Layer (type)                Output Shape              Param #   \n",
            "=================================================================\n",
            " conv2d (Conv2D)             (None, 48, 48, 64)        1664      \n",
            "                                                                 \n",
            " conv2d_1 (Conv2D)           (None, 48, 48, 64)        102464    \n",
            "                                                                 \n",
            " batch_normalization (BatchN  (None, 48, 48, 64)       256       \n",
            " ormalization)                                                   \n",
            "                                                                 \n",
            " activation (Activation)     (None, 48, 48, 64)        0         \n",
            "                                                                 \n",
            " max_pooling2d (MaxPooling2D  (None, 24, 24, 64)       0         \n",
            " )                                                               \n",
            "                                                                 \n",
            " conv2d_2 (Conv2D)           (None, 24, 24, 128)       204928    \n",
            "                                                                 \n",
            " conv2d_3 (Conv2D)           (None, 24, 24, 128)       409728    \n",
            "                                                                 \n",
            " batch_normalization_1 (Batc  (None, 24, 24, 128)      512       \n",
            " hNormalization)                                                 \n",
            "                                                                 \n",
            " activation_1 (Activation)   (None, 24, 24, 128)       0         \n",
            "                                                                 \n",
            " max_pooling2d_1 (MaxPooling  (None, 12, 12, 128)      0         \n",
            " 2D)                                                             \n",
            "                                                                 \n",
            " conv2d_4 (Conv2D)           (None, 12, 12, 256)       295168    \n",
            "                                                                 \n",
            " conv2d_5 (Conv2D)           (None, 12, 12, 256)       590080    \n",
            "                                                                 \n",
            " batch_normalization_2 (Batc  (None, 12, 12, 256)      1024      \n",
            " hNormalization)                                                 \n",
            "                                                                 \n",
            " max_pooling2d_2 (MaxPooling  (None, 6, 6, 256)        0         \n",
            " 2D)                                                             \n",
            "                                                                 \n",
            " flatten (Flatten)           (None, 9216)              0         \n",
            "                                                                 \n",
            " dense (Dense)               (None, 6)                 55302     \n",
            "                                                                 \n",
            "=================================================================\n",
            "Total params: 1,661,126\n",
            "Trainable params: 1,660,230\n",
            "Non-trainable params: 896\n",
            "_________________________________________________________________\n"
          ]
        }
      ]
    },
    {
      "cell_type": "markdown",
      "metadata": {
        "id": "xmIjqRJ_Dvfa"
      },
      "source": [
        "#**Fitting the Model with Training and Validation Data**"
      ]
    },
    {
      "cell_type": "code",
      "metadata": {
        "colab": {
          "base_uri": "https://localhost:8080/"
        },
        "id": "3YVZAB8BqnJx",
        "outputId": "52b978de-3a45-4b51-f530-3dd27f8639f3"
      },
      "source": [
        "# running epochs \n",
        "history = model.fit(X, y_new, epochs=25, batch_size=64, shuffle=True, validation_split=0.2)"
      ],
      "execution_count": 34,
      "outputs": [
        {
          "output_type": "stream",
          "name": "stdout",
          "text": [
            "Epoch 1/25\n",
            "301/301 [==============================] - 38s 81ms/step - loss: 2.2059 - accuracy: 0.2416 - val_loss: 3.0797 - val_accuracy: 0.0743\n",
            "Epoch 2/25\n",
            "301/301 [==============================] - 24s 80ms/step - loss: 1.7427 - accuracy: 0.3239 - val_loss: 1.6769 - val_accuracy: 0.3274\n",
            "Epoch 3/25\n",
            "301/301 [==============================] - 24s 81ms/step - loss: 1.5238 - accuracy: 0.4060 - val_loss: 2.0846 - val_accuracy: 0.3511\n",
            "Epoch 4/25\n",
            "301/301 [==============================] - 25s 83ms/step - loss: 1.3995 - accuracy: 0.4554 - val_loss: 2.0551 - val_accuracy: 0.2920\n",
            "Epoch 5/25\n",
            "301/301 [==============================] - 24s 80ms/step - loss: 1.3087 - accuracy: 0.4897 - val_loss: 1.9614 - val_accuracy: 0.2978\n",
            "Epoch 6/25\n",
            "301/301 [==============================] - 24s 80ms/step - loss: 1.2220 - accuracy: 0.5259 - val_loss: 1.3689 - val_accuracy: 0.4677\n",
            "Epoch 7/25\n",
            "301/301 [==============================] - 24s 80ms/step - loss: 1.1525 - accuracy: 0.5563 - val_loss: 1.7959 - val_accuracy: 0.4075\n",
            "Epoch 8/25\n",
            "301/301 [==============================] - 24s 80ms/step - loss: 1.1110 - accuracy: 0.5743 - val_loss: 2.2795 - val_accuracy: 0.3369\n",
            "Epoch 9/25\n",
            "301/301 [==============================] - 24s 80ms/step - loss: 1.0435 - accuracy: 0.6015 - val_loss: 1.6996 - val_accuracy: 0.3776\n",
            "Epoch 10/25\n",
            "301/301 [==============================] - 25s 83ms/step - loss: 0.9617 - accuracy: 0.6368 - val_loss: 1.7152 - val_accuracy: 0.4342\n",
            "Epoch 11/25\n",
            "301/301 [==============================] - 25s 83ms/step - loss: 0.8885 - accuracy: 0.6677 - val_loss: 1.2269 - val_accuracy: 0.5727\n",
            "Epoch 12/25\n",
            "301/301 [==============================] - 25s 83ms/step - loss: 0.7951 - accuracy: 0.7068 - val_loss: 1.4917 - val_accuracy: 0.5160\n",
            "Epoch 13/25\n",
            "301/301 [==============================] - 25s 83ms/step - loss: 0.6981 - accuracy: 0.7445 - val_loss: 1.6703 - val_accuracy: 0.4994\n",
            "Epoch 14/25\n",
            "301/301 [==============================] - 24s 80ms/step - loss: 0.5875 - accuracy: 0.7847 - val_loss: 1.9204 - val_accuracy: 0.4783\n",
            "Epoch 15/25\n",
            "301/301 [==============================] - 24s 80ms/step - loss: 0.4655 - accuracy: 0.8306 - val_loss: 1.9443 - val_accuracy: 0.4796\n",
            "Epoch 16/25\n",
            "301/301 [==============================] - 24s 80ms/step - loss: 0.3389 - accuracy: 0.8799 - val_loss: 2.0091 - val_accuracy: 0.5006\n",
            "Epoch 17/25\n",
            "301/301 [==============================] - 24s 80ms/step - loss: 0.2813 - accuracy: 0.9011 - val_loss: 2.4870 - val_accuracy: 0.4761\n",
            "Epoch 18/25\n",
            "301/301 [==============================] - 25s 83ms/step - loss: 0.2330 - accuracy: 0.9186 - val_loss: 2.1808 - val_accuracy: 0.5494\n",
            "Epoch 19/25\n",
            "301/301 [==============================] - 25s 83ms/step - loss: 0.2078 - accuracy: 0.9296 - val_loss: 2.1809 - val_accuracy: 0.5416\n",
            "Epoch 20/25\n",
            "301/301 [==============================] - 24s 80ms/step - loss: 0.1697 - accuracy: 0.9449 - val_loss: 2.3234 - val_accuracy: 0.5448\n",
            "Epoch 21/25\n",
            "301/301 [==============================] - 24s 80ms/step - loss: 0.0937 - accuracy: 0.9733 - val_loss: 2.1507 - val_accuracy: 0.5741\n",
            "Epoch 22/25\n",
            "301/301 [==============================] - 24s 80ms/step - loss: 0.1862 - accuracy: 0.9387 - val_loss: 2.3443 - val_accuracy: 0.5452\n",
            "Epoch 23/25\n",
            "301/301 [==============================] - 25s 83ms/step - loss: 0.0784 - accuracy: 0.9802 - val_loss: 2.9395 - val_accuracy: 0.5050\n",
            "Epoch 24/25\n",
            "301/301 [==============================] - 25s 83ms/step - loss: 0.0904 - accuracy: 0.9740 - val_loss: 2.2978 - val_accuracy: 0.5716\n",
            "Epoch 25/25\n",
            "301/301 [==============================] - 24s 80ms/step - loss: 0.0847 - accuracy: 0.9800 - val_loss: 2.9287 - val_accuracy: 0.5194\n"
          ]
        }
      ]
    },
    {
      "cell_type": "code",
      "metadata": {
        "colab": {
          "base_uri": "https://localhost:8080/",
          "height": 663
        },
        "id": "HcOF4c6f0G2W",
        "outputId": "44444372-e0c0-4bf6-cb03-d332e91645d9"
      },
      "source": [
        "# plotting losses and accuracy of train and validation\n",
        "plt.style.use('dark_background')\n",
        "\n",
        "plt.figure(figsize=(20,10))\n",
        "plt.subplot(1, 2, 1)\n",
        "plt.suptitle('Optimizer : Adam', fontsize=10)\n",
        "plt.ylabel('Loss', fontsize=16)\n",
        "plt.plot(history.history['loss'], label='Training Loss')\n",
        "plt.plot(history.history['val_loss'], label='Validation Loss')\n",
        "plt.legend(loc='upper right')\n",
        "\n",
        "plt.subplot(1, 2, 2)\n",
        "plt.ylabel('Accuracy', fontsize=16)\n",
        "plt.plot(history.history['accuracy'], label='Training Accuracy')\n",
        "plt.plot(history.history['val_accuracy'], label='Validation Accuracy')\n",
        "plt.legend(loc='lower right')\n",
        "plt.show()"
      ],
      "execution_count": null,
      "outputs": [
        {
          "data": {
            "image/png": "[encoded data removed]",
            "text/plain": [
              "<Figure size 1440x720 with 2 Axes>"
            ]
          },
          "metadata": {},
          "output_type": "display_data"
        }
      ]
    },
    {
      "cell_type": "code",
      "metadata": {
        "id": "65w0Nqciq7LX"
      },
      "source": [
        "# saving the model as a .h5 file\n",
        "model.save('model_final.h5')"
      ],
      "execution_count": 35,
      "outputs": []
    },
    {
      "cell_type": "code",
      "metadata": {
        "colab": {
          "base_uri": "https://localhost:8080/"
        },
        "id": "ktB77qvxH3Ji",
        "outputId": "b5352ed3-f511-4f39-f100-8b9a4c5c8ae4"
      },
      "source": [
        "model.save('model_final.json')"
      ],
      "execution_count": 36,
      "outputs": [
        {
          "output_type": "stream",
          "name": "stdout",
          "text": [
            "INFO:tensorflow:Assets written to: model_final.json/assets\n"
          ]
        }
      ]
    },
    {
      "cell_type": "code",
      "metadata": {
        "colab": {
          "base_uri": "https://localhost:8080/",
          "height": 17
        },
        "id": "ThhySzXoLjFa",
        "outputId": "1c6b0386-0d97-4dc2-fb3c-9cb753daae71"
      },
      "source": [
        "model_json = model.to_json()\n",
        "with open(\"model1.json\",\"w\") as json_file:\n",
        "     json_file.write(model_json)\n",
        "\n",
        "files.download(\"model1.json\")"
      ],
      "execution_count": null,
      "outputs": [
        {
          "data": {
            "application/javascript": [
              "\n",
              "    async function download(id, filename, size) {\n",
              "      if (!google.colab.kernel.accessAllowed) {\n",
              "        return;\n",
              "      }\n",
              "      const div = document.createElement('div');\n",
              "      const label = document.createElement('label');\n",
              "      label.textContent = `Downloading \"${filename}\": `;\n",
              "      div.appendChild(label);\n",
              "      const progress = document.createElement('progress');\n",
              "      progress.max = size;\n",
              "      div.appendChild(progress);\n",
              "      document.body.appendChild(div);\n",
              "\n",
              "      const buffers = [];\n",
              "      let downloaded = 0;\n",
              "\n",
              "      const channel = await google.colab.kernel.comms.open(id);\n",
              "      // Send a message to notify the kernel that we're ready.\n",
              "      channel.send({})\n",
              "\n",
              "      for await (const message of channel.messages) {\n",
              "        // Send a message to notify the kernel that we're ready.\n",
              "        channel.send({})\n",
              "        if (message.buffers) {\n",
              "          for (const buffer of message.buffers) {\n",
              "            buffers.push(buffer);\n",
              "            downloaded += buffer.byteLength;\n",
              "            progress.value = downloaded;\n",
              "          }\n",
              "        }\n",
              "      }\n",
              "      const blob = new Blob(buffers, {type: 'application/binary'});\n",
              "      const a = document.createElement('a');\n",
              "      a.href = window.URL.createObjectURL(blob);\n",
              "      a.download = filename;\n",
              "      div.appendChild(a);\n",
              "      a.click();\n",
              "      div.remove();\n",
              "    }\n",
              "  "
            ],
            "text/plain": [
              "<IPython.core.display.Javascript object>"
            ]
          },
          "metadata": {},
          "output_type": "display_data"
        },
        {
          "data": {
            "application/javascript": [
              "download(\"download_460a83dc-5e01-4c99-a4ff-7a78c9650009\", \"model1.json\", 6769)"
            ],
            "text/plain": [
              "<IPython.core.display.Javascript object>"
            ]
          },
          "metadata": {},
          "output_type": "display_data"
        }
      ]
    },
    {
      "cell_type": "markdown",
      "metadata": {
        "id": "4DhgG6UrDZ5F"
      },
      "source": [
        "#**Testing by importing new images** "
      ]
    },
    {
      "cell_type": "code",
      "metadata": {
        "id": "mUp8DUalw1HA"
      },
      "source": [
        "# Testing with different images\n",
        "import cv2\n",
        "test_img = cv2.imread('/content/drive/MyDrive/facial expression/dwayne (1).jpg', 0)"
      ],
      "execution_count": null,
      "outputs": []
    },
    {
      "cell_type": "code",
      "metadata": {
        "colab": {
          "base_uri": "https://localhost:8080/"
        },
        "id": "wl6ptlcCw-k6",
        "outputId": "c385eeff-a7e6-4518-83c6-e75c99e96623"
      },
      "source": [
        "test_img.shape"
      ],
      "execution_count": null,
      "outputs": [
        {
          "data": {
            "text/plain": [
              "(840, 441)"
            ]
          },
          "execution_count": 42,
          "metadata": {},
          "output_type": "execute_result"
        }
      ]
    },
    {
      "cell_type": "code",
      "metadata": {
        "colab": {
          "base_uri": "https://localhost:8080/"
        },
        "id": "P_B0BUZzxDdo",
        "outputId": "28790614-bc40-46d9-c33f-f18f8b2b8882"
      },
      "source": [
        "test_img = cv2.resize(test_img, (48,48))\n",
        "test_img.shape"
      ],
      "execution_count": null,
      "outputs": [
        {
          "data": {
            "text/plain": [
              "(48, 48)"
            ]
          },
          "execution_count": 43,
          "metadata": {},
          "output_type": "execute_result"
        }
      ]
    },
    {
      "cell_type": "code",
      "metadata": {
        "id": "sOYUlFtOxFki"
      },
      "source": [
        "test_img = test_img.reshape(1,48,48,1)"
      ],
      "execution_count": null,
      "outputs": []
    },
    {
      "cell_type": "markdown",
      "metadata": {
        "id": "9M3NtMOVEmEN"
      },
      "source": [
        "Actual image is angry and prediction is also angry"
      ]
    },
    {
      "cell_type": "code",
      "metadata": {
        "colab": {
          "base_uri": "https://localhost:8080/"
        },
        "id": "r5aFqyMSxHyT",
        "outputId": "4ef72d6d-8f4d-416d-fdd1-393e3b7f195e"
      },
      "source": [
        "#angry face predicting\n",
        "model.predict(test_img)"
      ],
      "execution_count": null,
      "outputs": [
        {
          "data": {
            "text/plain": [
              "array([[1., 0., 0., 0., 0., 0.]], dtype=float32)"
            ]
          },
          "execution_count": 45,
          "metadata": {},
          "output_type": "execute_result"
        }
      ]
    },
    {
      "cell_type": "markdown",
      "metadata": {
        "id": "gyXjeugvxNao"
      },
      "source": [
        " label_map = ['Anger', 'Neutral', 'Fear', 'Happy', 'Sad', 'Surprise']"
      ]
    },
    {
      "cell_type": "code",
      "metadata": {
        "id": "x8J5kxn9xJxg"
      },
      "source": [
        "test_img2 = cv2.imread(\"/content/drive/MyDrive/happy_face.jpg\",0)"
      ],
      "execution_count": null,
      "outputs": []
    },
    {
      "cell_type": "code",
      "metadata": {
        "colab": {
          "base_uri": "https://localhost:8080/"
        },
        "id": "UnvHojEgxacp",
        "outputId": "c74d36ac-585d-4536-8af5-af7f7de3d76d"
      },
      "source": [
        "test_img2.shape"
      ],
      "execution_count": null,
      "outputs": [
        {
          "data": {
            "text/plain": [
              "(339, 509)"
            ]
          },
          "execution_count": 47,
          "metadata": {},
          "output_type": "execute_result"
        }
      ]
    },
    {
      "cell_type": "code",
      "metadata": {
        "colab": {
          "base_uri": "https://localhost:8080/"
        },
        "id": "E-gi15oVxcf1",
        "outputId": "610cb09c-9986-4248-a547-546c04510d9e"
      },
      "source": [
        "test_img2 = cv2.resize(test_img2, (48,48))\n",
        "test_img2.shape"
      ],
      "execution_count": null,
      "outputs": [
        {
          "data": {
            "text/plain": [
              "(48, 48)"
            ]
          },
          "execution_count": 48,
          "metadata": {},
          "output_type": "execute_result"
        }
      ]
    },
    {
      "cell_type": "code",
      "metadata": {
        "id": "Uzgk_5syxhtT"
      },
      "source": [
        "test_img2 = test_img2.reshape(1,48,48,1)"
      ],
      "execution_count": null,
      "outputs": []
    },
    {
      "cell_type": "markdown",
      "metadata": {
        "id": "qLNtcocUEXYf"
      },
      "source": [
        "Actual image is happy and prediction image is also happy"
      ]
    },
    {
      "cell_type": "code",
      "metadata": {
        "colab": {
          "base_uri": "https://localhost:8080/"
        },
        "id": "iKHyT_Kqxkxl",
        "outputId": "953834b5-e7a7-4493-f7ff-af2eb007fa0c"
      },
      "source": [
        "#Happy face predicting\n",
        "model.predict(test_img2)"
      ],
      "execution_count": null,
      "outputs": [
        {
          "data": {
            "text/plain": [
              "array([[0., 0., 0., 1., 0., 0.]], dtype=float32)"
            ]
          },
          "execution_count": 50,
          "metadata": {},
          "output_type": "execute_result"
        }
      ]
    },
    {
      "cell_type": "markdown",
      "metadata": {
        "id": "OED-05OzIXL3"
      },
      "source": [
        "#**Conclusion**"
      ]
    },
    {
      "cell_type": "markdown",
      "metadata": {
        "id": "GCPATBTLIb90"
      },
      "source": [
        "\n",
        "\n",
        "1.  I conclude this project by hoping that you got a fair idea and understood the whole pipeline on how you can make an emotion detection model \n",
        "\n",
        "2.   We trained our model using Convolutional Neural Network (CNN)  we just added layers with a channels and padding requirement in a sequential model just by calling add method.\n",
        "\n",
        "\n",
        "3.   we also used Computer Vision as part of this model. Haarcascade is the package used from OpenCV to detect objects in other images.\n",
        "\n",
        "4.   We trained the model with several images and then used the test images to see how the results match up. and we have taken epochs as 25 and we got the optimum score at 15th epoch \n",
        "\n",
        "5. For this model, the accuracy that we achieved for the validation set is 57%. To further increase the accuracy of the model, we can either expand the training dataset we have or increase the batch size for the model. Through these parameters, we can increase the model accuracy for this model.\n",
        "\n",
        "6. Model is identifying students emotions using minimum reference images and Successfully opened real-time webcam video feed on streamlit platform\n",
        "\n",
        "\n",
        "\n"
      ]
    }
  ]
}