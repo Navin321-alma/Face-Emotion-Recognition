{
  "nbformat": 4,
  "nbformat_minor": 0,
  "metadata": {
    "colab": {
      "name": "fer_final",
      "provenance": [],
      "authorship_tag": "ABX9TyNBKAal3ChpyDejEBI8Knff",
      "include_colab_link": true
    },
    "kernelspec": {
      "name": "python3",
      "display_name": "Python 3"
    },
    "language_info": {
      "name": "python"
    },
    "accelerator": "GPU"
  },
  "cells": [
    {
      "cell_type": "markdown",
      "metadata": {
        "id": "view-in-github",
        "colab_type": "text"
      },
      "source": [
        "<a href=\"https://colab.research.google.com/github/Navin321-alma/Face-Emotion-Recognition/blob/main/fer_final.ipynb\" target=\"_parent\"><img src=\"https://colab.research.google.com/assets/colab-badge.svg\" alt=\"Open In Colab\"/></a>"
      ]
    },
    {
      "cell_type": "code",
      "metadata": {
        "colab": {
          "base_uri": "https://localhost:8080/"
        },
        "id": "ERaM5NMsm0tM",
        "outputId": "538b01dc-bea8-468c-e4ca-6633a5424b38"
      },
      "source": [
        "#mounting to drive\n",
        "from google.colab import drive\n",
        "drive.mount('/content/drive')"
      ],
      "execution_count": 1,
      "outputs": [
        {
          "output_type": "stream",
          "name": "stdout",
          "text": [
            "Mounted at /content/drive\n"
          ]
        }
      ]
    },
    {
      "cell_type": "code",
      "metadata": {
        "id": "v1eEzVOIm4qH"
      },
      "source": [
        "#importing libraries\n",
        "import numpy as np \n",
        "import pandas as pd \n",
        "import cv2"
      ],
      "execution_count": 2,
      "outputs": []
    },
    {
      "cell_type": "code",
      "metadata": {
        "id": "GUHlesTwnhDF"
      },
      "source": [
        "df = pd.read_csv('/content/drive/MyDrive/facial expression/fer2013/fer2013.csv')"
      ],
      "execution_count": 3,
      "outputs": []
    },
    {
      "cell_type": "code",
      "metadata": {
        "colab": {
          "base_uri": "https://localhost:8080/",
          "height": 206
        },
        "id": "OmIRhazJnrJj",
        "outputId": "64c602c3-050f-49b5-ae07-c591120d0fbb"
      },
      "source": [
        "# it gives first five rows of dataset \n",
        "df.head()"
      ],
      "execution_count": 4,
      "outputs": [
        {
          "output_type": "execute_result",
          "data": {
            "text/html": [
              "<div>\n",
              "<style scoped>\n",
              "    .dataframe tbody tr th:only-of-type {\n",
              "        vertical-align: middle;\n",
              "    }\n",
              "\n",
              "    .dataframe tbody tr th {\n",
              "        vertical-align: top;\n",
              "    }\n",
              "\n",
              "    .dataframe thead th {\n",
              "        text-align: right;\n",
              "    }\n",
              "</style>\n",
              "<table border=\"1\" class=\"dataframe\">\n",
              "  <thead>\n",
              "    <tr style=\"text-align: right;\">\n",
              "      <th></th>\n",
              "      <th>emotion</th>\n",
              "      <th>pixels</th>\n",
              "      <th>Usage</th>\n",
              "    </tr>\n",
              "  </thead>\n",
              "  <tbody>\n",
              "    <tr>\n",
              "      <th>0</th>\n",
              "      <td>0</td>\n",
              "      <td>70 80 82 72 58 58 60 63 54 58 60 48 89 115 121...</td>\n",
              "      <td>Training</td>\n",
              "    </tr>\n",
              "    <tr>\n",
              "      <th>1</th>\n",
              "      <td>0</td>\n",
              "      <td>151 150 147 155 148 133 111 140 170 174 182 15...</td>\n",
              "      <td>Training</td>\n",
              "    </tr>\n",
              "    <tr>\n",
              "      <th>2</th>\n",
              "      <td>2</td>\n",
              "      <td>231 212 156 164 174 138 161 173 182 200 106 38...</td>\n",
              "      <td>Training</td>\n",
              "    </tr>\n",
              "    <tr>\n",
              "      <th>3</th>\n",
              "      <td>4</td>\n",
              "      <td>24 32 36 30 32 23 19 20 30 41 21 22 32 34 21 1...</td>\n",
              "      <td>Training</td>\n",
              "    </tr>\n",
              "    <tr>\n",
              "      <th>4</th>\n",
              "      <td>6</td>\n",
              "      <td>4 0 0 0 0 0 0 0 0 0 0 0 3 15 23 28 48 50 58 84...</td>\n",
              "      <td>Training</td>\n",
              "    </tr>\n",
              "  </tbody>\n",
              "</table>\n",
              "</div>"
            ],
            "text/plain": [
              "   emotion                                             pixels     Usage\n",
              "0        0  70 80 82 72 58 58 60 63 54 58 60 48 89 115 121...  Training\n",
              "1        0  151 150 147 155 148 133 111 140 170 174 182 15...  Training\n",
              "2        2  231 212 156 164 174 138 161 173 182 200 106 38...  Training\n",
              "3        4  24 32 36 30 32 23 19 20 30 41 21 22 32 34 21 1...  Training\n",
              "4        6  4 0 0 0 0 0 0 0 0 0 0 0 3 15 23 28 48 50 58 84...  Training"
            ]
          },
          "metadata": {},
          "execution_count": 4
        }
      ]
    },
    {
      "cell_type": "code",
      "metadata": {
        "colab": {
          "base_uri": "https://localhost:8080/"
        },
        "id": "KyUNZCVNnuAh",
        "outputId": "76b0250c-a2db-433b-ff45-2b3a7083ee80"
      },
      "source": [
        "# length of a pixels \n",
        "len(df.iloc[0]['pixels'].split())\n",
        "# 48 * 48"
      ],
      "execution_count": 5,
      "outputs": [
        {
          "output_type": "execute_result",
          "data": {
            "text/plain": [
              "2304"
            ]
          },
          "metadata": {},
          "execution_count": 5
        }
      ]
    },
    {
      "cell_type": "code",
      "metadata": {
        "id": "X3RfItp1nyAs"
      },
      "source": [
        "# labelling of emotion\n",
        "label_map = ['Anger', 'Neutral', 'Fear', 'Happy', 'Sad', 'Surprise']"
      ],
      "execution_count": 6,
      "outputs": []
    },
    {
      "cell_type": "code",
      "metadata": {
        "id": "sdgpOA3Cn2LV"
      },
      "source": [
        "import matplotlib.pyplot as plt"
      ],
      "execution_count": 7,
      "outputs": []
    },
    {
      "cell_type": "code",
      "metadata": {
        "id": "PagMyq9jn4lp"
      },
      "source": [
        "img = df.iloc[0]['pixels'].split()"
      ],
      "execution_count": 8,
      "outputs": []
    },
    {
      "cell_type": "code",
      "metadata": {
        "id": "R8DUcQUMn6n4"
      },
      "source": [
        "img = [int(i) for i in img]"
      ],
      "execution_count": 9,
      "outputs": []
    },
    {
      "cell_type": "code",
      "metadata": {
        "colab": {
          "base_uri": "https://localhost:8080/"
        },
        "id": "85AL4u_Pn9RW",
        "outputId": "3fb5d894-0b19-47be-9a19-a16d12eafe5b"
      },
      "source": [
        "type(img[0])"
      ],
      "execution_count": 10,
      "outputs": [
        {
          "output_type": "execute_result",
          "data": {
            "text/plain": [
              "int"
            ]
          },
          "metadata": {},
          "execution_count": 10
        }
      ]
    },
    {
      "cell_type": "code",
      "metadata": {
        "colab": {
          "base_uri": "https://localhost:8080/"
        },
        "id": "Q9GxxIWQoRyJ",
        "outputId": "3e3bd2ee-010b-4897-c717-2fb5883461f7"
      },
      "source": [
        "len(img)"
      ],
      "execution_count": 11,
      "outputs": [
        {
          "output_type": "execute_result",
          "data": {
            "text/plain": [
              "2304"
            ]
          },
          "metadata": {},
          "execution_count": 11
        }
      ]
    },
    {
      "cell_type": "code",
      "metadata": {
        "id": "Khd_aa7PoXtY"
      },
      "source": [
        "img = np.array(img)"
      ],
      "execution_count": 12,
      "outputs": []
    },
    {
      "cell_type": "code",
      "metadata": {
        "id": "F6kZ23t9ocFO"
      },
      "source": [
        "img = img.reshape(48,48)"
      ],
      "execution_count": 13,
      "outputs": []
    },
    {
      "cell_type": "code",
      "metadata": {
        "colab": {
          "base_uri": "https://localhost:8080/"
        },
        "id": "5yfptzshoduD",
        "outputId": "b493ddfa-9327-4d36-a697-050b3ffe4bc1"
      },
      "source": [
        "img.shape"
      ],
      "execution_count": 14,
      "outputs": [
        {
          "output_type": "execute_result",
          "data": {
            "text/plain": [
              "(48, 48)"
            ]
          },
          "metadata": {},
          "execution_count": 14
        }
      ]
    },
    {
      "cell_type": "code",
      "metadata": {
        "colab": {
          "base_uri": "https://localhost:8080/",
          "height": 298
        },
        "id": "AI1HcKeGofUL",
        "outputId": "3e866a62-d7b6-473e-f80c-651a0fd8ecd2"
      },
      "source": [
        "#plotting a image \n",
        "plt.imshow(img, cmap='gray')\n",
        "plt.xlabel(df.iloc[0]['emotion'])"
      ],
      "execution_count": 15,
      "outputs": [
        {
          "output_type": "execute_result",
          "data": {
            "text/plain": [
              "Text(0.5, 0, '0')"
            ]
          },
          "metadata": {},
          "execution_count": 15
        },
        {
          "output_type": "display_data",
          "data": {
            "image/png": "[encoded data removed]",
            "text/plain": [
              "<Figure size 432x288 with 1 Axes>"
            ]
          },
          "metadata": {
            "needs_background": "light"
          }
        }
      ]
    },
    {
      "cell_type": "code",
      "metadata": {
        "id": "hTPL8R_xohJE"
      },
      "source": [
        "X = []\n",
        "y = []"
      ],
      "execution_count": 16,
      "outputs": []
    },
    {
      "cell_type": "code",
      "metadata": {
        "id": "xMowKx6zoj-B"
      },
      "source": [
        "# setting different labels to different emotion\n",
        "def getData(path):\n",
        "    anger = 0\n",
        "    fear = 0\n",
        "    sad = 0\n",
        "    happy = 0\n",
        "    surprise = 0\n",
        "    neutral = 0\n",
        "    df = pd.read_csv(path)\n",
        "    \n",
        "    X = []\n",
        "    y = []    \n",
        "    \n",
        "    for i in range(len(df)):\n",
        "        if df.iloc[i]['emotion'] != 1:\n",
        "            if df.iloc[i]['emotion'] == 0:\n",
        "                if anger <= 4000:            \n",
        "                    y.append(df.iloc[i]['emotion'])\n",
        "                    im = df.iloc[i]['pixels']\n",
        "                    im = [int(x) for x in im.split()]\n",
        "                    X.append(im)\n",
        "                    anger += 1\n",
        "                else:\n",
        "                    pass\n",
        "                \n",
        "            if df.iloc[i]['emotion'] == 2:\n",
        "                if fear <= 4000:            \n",
        "                    y.append(df.iloc[i]['emotion'])\n",
        "                    im = df.iloc[i]['pixels']\n",
        "                    im = [int(x) for x in im.split()]\n",
        "                    X.append(im)\n",
        "                    fear += 1\n",
        "                else:\n",
        "                    pass\n",
        "                \n",
        "            if df.iloc[i]['emotion'] == 3:\n",
        "                if happy <= 4000:            \n",
        "                    y.append(df.iloc[i]['emotion'])\n",
        "                    im = df.iloc[i]['pixels']\n",
        "                    im = [int(x) for x in im.split()]\n",
        "                    X.append(im)\n",
        "                    happy += 1\n",
        "                else:\n",
        "                    pass\n",
        "                \n",
        "            if df.iloc[i]['emotion'] == 4:\n",
        "                if sad <= 4000:            \n",
        "                    y.append(df.iloc[i]['emotion'])\n",
        "                    im = df.iloc[i]['pixels']\n",
        "                    im = [int(x) for x in im.split()]\n",
        "                    X.append(im)\n",
        "                    sad += 1\n",
        "                else:\n",
        "                    pass\n",
        "                \n",
        "            if df.iloc[i]['emotion'] == 5:\n",
        "                if surprise <= 4000:            \n",
        "                    y.append(df.iloc[i]['emotion'])\n",
        "                    im = df.iloc[i]['pixels']\n",
        "                    im = [int(x) for x in im.split()]\n",
        "                    X.append(im)\n",
        "                    surprise += 1\n",
        "                else:\n",
        "                    pass\n",
        "                \n",
        "            if df.iloc[i]['emotion'] == 6:\n",
        "                if neutral <= 4000:            \n",
        "                    y.append(df.iloc[i]['emotion'])\n",
        "                    im = df.iloc[i]['pixels']\n",
        "                    im = [int(x) for x in im.split()]\n",
        "                    X.append(im)\n",
        "                    neutral += 1\n",
        "                else:\n",
        "                    pass\n",
        "\n",
        "            \n",
        "            \n",
        "    return X, y  \n",
        "    "
      ],
      "execution_count": 17,
      "outputs": []
    },
    {
      "cell_type": "code",
      "metadata": {
        "id": "v8iOxXTAoyge"
      },
      "source": [
        "# generating new dataset\n",
        "X, y = getData('/content/drive/MyDrive/facial expression/fer2013/fer2013.csv')"
      ],
      "execution_count": 18,
      "outputs": []
    },
    {
      "cell_type": "code",
      "metadata": {
        "colab": {
          "base_uri": "https://localhost:8080/"
        },
        "id": "Oy5JCE82pALH",
        "outputId": "ac28ef30-7611-420d-c619-18856dd53170"
      },
      "source": [
        "np.unique(y, return_counts=True)"
      ],
      "execution_count": 19,
      "outputs": [
        {
          "output_type": "execute_result",
          "data": {
            "text/plain": [
              "(array([0, 2, 3, 4, 5, 6]), array([4001, 4001, 4001, 4001, 4001, 4001]))"
            ]
          },
          "metadata": {},
          "execution_count": 19
        }
      ]
    },
    {
      "cell_type": "code",
      "metadata": {
        "id": "mXUb7YBRpkfX"
      },
      "source": [
        "X = np.array(X)/255.0\n",
        "y = np.array(y)"
      ],
      "execution_count": 20,
      "outputs": []
    },
    {
      "cell_type": "code",
      "metadata": {
        "colab": {
          "base_uri": "https://localhost:8080/"
        },
        "id": "pKX8K2ykpp_I",
        "outputId": "a7597bdf-f0c6-45ab-e19b-65b87964daf9"
      },
      "source": [
        "# shape of X and y\n",
        "X.shape, y.shape"
      ],
      "execution_count": 21,
      "outputs": [
        {
          "output_type": "execute_result",
          "data": {
            "text/plain": [
              "((24006, 2304), (24006,))"
            ]
          },
          "metadata": {},
          "execution_count": 21
        }
      ]
    },
    {
      "cell_type": "code",
      "metadata": {
        "id": "jMAf8d0jpx20"
      },
      "source": [
        "y_o = []\n",
        "for i in y:\n",
        "    if i != 6:\n",
        "        y_o.append(i)\n",
        "        \n",
        "    else:\n",
        "        y_o.append(1)"
      ],
      "execution_count": 22,
      "outputs": []
    },
    {
      "cell_type": "code",
      "metadata": {
        "colab": {
          "base_uri": "https://localhost:8080/"
        },
        "id": "6DJC9Qw0p10s",
        "outputId": "0f4cf8fa-f14b-4147-e581-27d6cca633be"
      },
      "source": [
        "np.unique(y_o, return_counts=True)"
      ],
      "execution_count": 23,
      "outputs": [
        {
          "output_type": "execute_result",
          "data": {
            "text/plain": [
              "(array([0, 1, 2, 3, 4, 5]), array([4001, 4001, 4001, 4001, 4001, 4001]))"
            ]
          },
          "metadata": {},
          "execution_count": 23
        }
      ]
    },
    {
      "cell_type": "code",
      "metadata": {
        "colab": {
          "base_uri": "https://localhost:8080/",
          "height": 1000
        },
        "id": "h7lIN543pa8_",
        "outputId": "46366da9-1b35-4d6d-aeee-4c356aabc280"
      },
      "source": [
        "# plotting five different images with their emotions name\n",
        "for i in range(5):\n",
        "    r = np.random.randint((1), 24000, 1)[0]\n",
        "    plt.figure()\n",
        "    plt.imshow(X[r].reshape(48,48), cmap='gray')\n",
        "    plt.xlabel(label_map[y_o[r]])"
      ],
      "execution_count": 24,
      "outputs": [
        {
          "output_type": "display_data",
          "data": {
            "image/png": "[encoded data removed]",
            "text/plain": [
              "<Figure size 432x288 with 1 Axes>"
            ]
          },
          "metadata": {
            "needs_background": "light"
          }
        },
        {
          "output_type": "display_data",
          "data": {
            "image/png": "[encoded data removed]",
            "text/plain": [
              "<Figure size 432x288 with 1 Axes>"
            ]
          },
          "metadata": {
            "needs_background": "light"
          }
        },
        {
          "output_type": "display_data",
          "data": {
            "image/png": "[encoded data removed]",
            "text/plain": [
              "<Figure size 432x288 with 1 Axes>"
            ]
          },
          "metadata": {
            "needs_background": "light"
          }
        },
        {
          "output_type": "display_data",
          "data": {
            "image/png": "[encoded data removed]",
            "text/plain": [
              "<Figure size 432x288 with 1 Axes>"
            ]
          },
          "metadata": {
            "needs_background": "light"
          }
        },
        {
          "output_type": "display_data",
          "data": {
            "image/png": "[encoded data removed]",
            "text/plain": [
              "<Figure size 432x288 with 1 Axes>"
            ]
          },
          "metadata": {
            "needs_background": "light"
          }
        }
      ]
    },
    {
      "cell_type": "code",
      "metadata": {
        "id": "SCJeQqYkpejO"
      },
      "source": [
        "X = X.reshape(len(X), 48, 48, 1)"
      ],
      "execution_count": 25,
      "outputs": []
    },
    {
      "cell_type": "code",
      "metadata": {
        "id": "6BDDDqu-p54H"
      },
      "source": [
        "# no_of_images, height, width, coloar_map"
      ],
      "execution_count": 26,
      "outputs": []
    },
    {
      "cell_type": "code",
      "metadata": {
        "colab": {
          "base_uri": "https://localhost:8080/"
        },
        "id": "v30j_zHbqD8X",
        "outputId": "89969523-2451-4503-a1a6-af671f023df9"
      },
      "source": [
        "X.shape"
      ],
      "execution_count": 27,
      "outputs": [
        {
          "output_type": "execute_result",
          "data": {
            "text/plain": [
              "(24006, 48, 48, 1)"
            ]
          },
          "metadata": {},
          "execution_count": 27
        }
      ]
    },
    {
      "cell_type": "code",
      "metadata": {
        "id": "7H9eg8XFqGDr"
      },
      "source": [
        "from tensorflow.keras.utils import to_categorical\n",
        "y_new = to_categorical(y_o, num_classes=6)"
      ],
      "execution_count": 28,
      "outputs": []
    },
    {
      "cell_type": "code",
      "metadata": {
        "colab": {
          "base_uri": "https://localhost:8080/"
        },
        "id": "lskbzU1qqIne",
        "outputId": "48957c25-3237-4e8d-c3c6-f5ba72883366"
      },
      "source": [
        "len(y_o), y_new.shape"
      ],
      "execution_count": 29,
      "outputs": [
        {
          "output_type": "execute_result",
          "data": {
            "text/plain": [
              "(24006, (24006, 6))"
            ]
          },
          "metadata": {},
          "execution_count": 29
        }
      ]
    },
    {
      "cell_type": "code",
      "metadata": {
        "colab": {
          "base_uri": "https://localhost:8080/"
        },
        "id": "Vrb-q-sPqimh",
        "outputId": "48812cc0-b68c-4eca-86e5-fac62750b48b"
      },
      "source": [
        "y_o[150], y_new[150]"
      ],
      "execution_count": 30,
      "outputs": [
        {
          "output_type": "execute_result",
          "data": {
            "text/plain": [
              "(0, array([1., 0., 0., 0., 0., 0.], dtype=float32))"
            ]
          },
          "metadata": {},
          "execution_count": 30
        }
      ]
    },
    {
      "cell_type": "markdown",
      "metadata": {
        "id": "dvsrscKtD5oM"
      },
      "source": [
        "#Making Training and Validation Data"
      ]
    },
    {
      "cell_type": "code",
      "metadata": {
        "id": "GLzqzQnEqkrw"
      },
      "source": [
        "# importing libraries for creating model\n",
        "from keras.models import Sequential\n",
        "from keras.layers import Dense , Activation , Dropout ,Flatten\n",
        "from keras.layers.convolutional import Conv2D\n",
        "from keras.layers.convolutional import MaxPooling2D\n",
        "from keras.metrics import categorical_accuracy\n",
        "from keras.models import model_from_json\n",
        "from keras.callbacks import ModelCheckpoint\n",
        "from keras.optimizers import *\n",
        "from tensorflow.keras.layers import BatchNormalization"
      ],
      "execution_count": 31,
      "outputs": []
    },
    {
      "cell_type": "code",
      "metadata": {
        "id": "TTu8vgEgrAjc"
      },
      "source": [
        "# adding convolutional layers with activation functions (relu) and max pooling\n",
        "model = Sequential()\n",
        "\n",
        "\n",
        "input_shape = (48,48,1)\n",
        "\n",
        "\n",
        "model.add(Conv2D(64, (5, 5), input_shape=input_shape,activation='relu', padding='same'))\n",
        "model.add(Conv2D(64, (5, 5), padding='same'))\n",
        "model.add(BatchNormalization())\n",
        "model.add(Activation('relu'))\n",
        "model.add(MaxPooling2D(pool_size=(2, 2)))\n",
        "\n",
        "\n",
        "model.add(Conv2D(128, (5, 5),activation='relu',padding='same'))\n",
        "model.add(Conv2D(128, (5, 5),padding='same'))\n",
        "model.add(BatchNormalization())\n",
        "model.add(Activation('relu'))\n",
        "model.add(MaxPooling2D(pool_size=(2, 2)))\n",
        "\n",
        "model.add(Conv2D(256, (3, 3),activation='relu',padding='same'))\n",
        "model.add(Conv2D(256, (3, 3),activation='relu',padding='same'))\n",
        "model.add(BatchNormalization())\n",
        "model.add(MaxPooling2D(pool_size=(2, 2)))\n",
        "\n",
        "## (15, 15) --->  30\n",
        "model.add(Flatten())\n",
        "model.add(Dense(6, activation='softmax'))\n",
        "\n",
        "model.compile(loss='categorical_crossentropy', metrics=['accuracy'],optimizer='adam')"
      ],
      "execution_count": 32,
      "outputs": []
    },
    {
      "cell_type": "code",
      "metadata": {
        "colab": {
          "base_uri": "https://localhost:8080/"
        },
        "id": "GZR0i2TY0BBd",
        "outputId": "265db691-3bca-437e-abda-c4e0881fc9cf"
      },
      "source": [
        "# printing model summary\n",
        "model.summary()"
      ],
      "execution_count": 33,
      "outputs": [
        {
          "output_type": "stream",
          "name": "stdout",
          "text": [
            "Model: \"sequential\"\n",
            "_________________________________________________________________\n",
            " Layer (type)                Output Shape              Param #   \n",
            "=================================================================\n",
            " conv2d (Conv2D)             (None, 48, 48, 64)        1664      \n",
            "                                                                 \n",
            " conv2d_1 (Conv2D)           (None, 48, 48, 64)        102464    \n",
            "                                                                 \n",
            " batch_normalization (BatchN  (None, 48, 48, 64)       256       \n",
            " ormalization)                                                   \n",
            "                                                                 \n",
            " activation (Activation)     (None, 48, 48, 64)        0         \n",
            "                                                                 \n",
            " max_pooling2d (MaxPooling2D  (None, 24, 24, 64)       0         \n",
            " )                                                               \n",
            "                                                                 \n",
            " conv2d_2 (Conv2D)           (None, 24, 24, 128)       204928    \n",
            "                                                                 \n",
            " conv2d_3 (Conv2D)           (None, 24, 24, 128)       409728    \n",
            "                                                                 \n",
            " batch_normalization_1 (Batc  (None, 24, 24, 128)      512       \n",
            " hNormalization)                                                 \n",
            "                                                                 \n",
            " activation_1 (Activation)   (None, 24, 24, 128)       0         \n",
            "                                                                 \n",
            " max_pooling2d_1 (MaxPooling  (None, 12, 12, 128)      0         \n",
            " 2D)                                                             \n",
            "                                                                 \n",
            " conv2d_4 (Conv2D)           (None, 12, 12, 256)       295168    \n",
            "                                                                 \n",
            " conv2d_5 (Conv2D)           (None, 12, 12, 256)       590080    \n",
            "                                                                 \n",
            " batch_normalization_2 (Batc  (None, 12, 12, 256)      1024      \n",
            " hNormalization)                                                 \n",
            "                                                                 \n",
            " max_pooling2d_2 (MaxPooling  (None, 6, 6, 256)        0         \n",
            " 2D)                                                             \n",
            "                                                                 \n",
            " flatten (Flatten)           (None, 9216)              0         \n",
            "                                                                 \n",
            " dense (Dense)               (None, 6)                 55302     \n",
            "                                                                 \n",
            "=================================================================\n",
            "Total params: 1,661,126\n",
            "Trainable params: 1,660,230\n",
            "Non-trainable params: 896\n",
            "_________________________________________________________________\n"
          ]
        }
      ]
    },
    {
      "cell_type": "markdown",
      "metadata": {
        "id": "xmIjqRJ_Dvfa"
      },
      "source": [
        "#Fitting the Model with Training and Validation Data"
      ]
    },
    {
      "cell_type": "code",
      "metadata": {
        "colab": {
          "base_uri": "https://localhost:8080/"
        },
        "id": "3YVZAB8BqnJx",
        "outputId": "6f1ff9ea-b978-47a3-e9f8-b1c47ca04277"
      },
      "source": [
        "# running epochs \n",
        "history = model.fit(X, y_new, epochs=25, batch_size=64, shuffle=True, validation_split=0.2)"
      ],
      "execution_count": 34,
      "outputs": [
        {
          "output_type": "stream",
          "name": "stdout",
          "text": [
            "Epoch 1/25\n",
            "301/301 [==============================] - 64s 106ms/step - loss: 2.2084 - accuracy: 0.2428 - val_loss: 2.9751 - val_accuracy: 0.1006\n",
            "Epoch 2/25\n",
            "301/301 [==============================] - 31s 103ms/step - loss: 1.7087 - accuracy: 0.3249 - val_loss: 2.5030 - val_accuracy: 0.1622\n",
            "Epoch 3/25\n",
            "301/301 [==============================] - 31s 103ms/step - loss: 1.5058 - accuracy: 0.4108 - val_loss: 1.7042 - val_accuracy: 0.3126\n",
            "Epoch 4/25\n",
            "301/301 [==============================] - 31s 103ms/step - loss: 1.4056 - accuracy: 0.4531 - val_loss: 2.4477 - val_accuracy: 0.2307\n",
            "Epoch 5/25\n",
            "301/301 [==============================] - 31s 103ms/step - loss: 1.3061 - accuracy: 0.4942 - val_loss: 2.0353 - val_accuracy: 0.2884\n",
            "Epoch 6/25\n",
            "301/301 [==============================] - 31s 103ms/step - loss: 1.2288 - accuracy: 0.5234 - val_loss: 1.4024 - val_accuracy: 0.4788\n",
            "Epoch 7/25\n",
            "301/301 [==============================] - 31s 103ms/step - loss: 1.1553 - accuracy: 0.5512 - val_loss: 1.3141 - val_accuracy: 0.5006\n",
            "Epoch 8/25\n",
            "301/301 [==============================] - 31s 103ms/step - loss: 1.0895 - accuracy: 0.5818 - val_loss: 1.6353 - val_accuracy: 0.3930\n",
            "Epoch 9/25\n",
            "301/301 [==============================] - 31s 103ms/step - loss: 1.0301 - accuracy: 0.6073 - val_loss: 1.3198 - val_accuracy: 0.5429\n",
            "Epoch 10/25\n",
            "301/301 [==============================] - 31s 103ms/step - loss: 0.9437 - accuracy: 0.6477 - val_loss: 2.2817 - val_accuracy: 0.3278\n",
            "Epoch 11/25\n",
            "301/301 [==============================] - 31s 103ms/step - loss: 0.8693 - accuracy: 0.6736 - val_loss: 1.6446 - val_accuracy: 0.4779\n",
            "Epoch 12/25\n",
            "301/301 [==============================] - 31s 103ms/step - loss: 0.7749 - accuracy: 0.7099 - val_loss: 1.2989 - val_accuracy: 0.5629\n",
            "Epoch 13/25\n",
            "301/301 [==============================] - 31s 103ms/step - loss: 0.6681 - accuracy: 0.7564 - val_loss: 1.7437 - val_accuracy: 0.4663\n",
            "Epoch 14/25\n",
            "301/301 [==============================] - 31s 102ms/step - loss: 0.5529 - accuracy: 0.7993 - val_loss: 1.5074 - val_accuracy: 0.5496\n",
            "Epoch 15/25\n",
            "301/301 [==============================] - 31s 103ms/step - loss: 0.4670 - accuracy: 0.8307 - val_loss: 1.5320 - val_accuracy: 0.5741\n",
            "Epoch 16/25\n",
            "301/301 [==============================] - 31s 103ms/step - loss: 0.3376 - accuracy: 0.8829 - val_loss: 1.9710 - val_accuracy: 0.5339\n",
            "Epoch 17/25\n",
            "301/301 [==============================] - 31s 102ms/step - loss: 0.2387 - accuracy: 0.9192 - val_loss: 2.0878 - val_accuracy: 0.5521\n",
            "Epoch 18/25\n",
            "301/301 [==============================] - 31s 102ms/step - loss: 0.1948 - accuracy: 0.9349 - val_loss: 2.3897 - val_accuracy: 0.5075\n",
            "Epoch 19/25\n",
            "301/301 [==============================] - 31s 103ms/step - loss: 0.2105 - accuracy: 0.9330 - val_loss: 2.0729 - val_accuracy: 0.5633\n",
            "Epoch 20/25\n",
            "301/301 [==============================] - 31s 103ms/step - loss: 0.1327 - accuracy: 0.9616 - val_loss: 2.5114 - val_accuracy: 0.5285\n",
            "Epoch 21/25\n",
            "301/301 [==============================] - 31s 103ms/step - loss: 0.1243 - accuracy: 0.9618 - val_loss: 2.5424 - val_accuracy: 0.5198\n",
            "Epoch 22/25\n",
            "301/301 [==============================] - 31s 103ms/step - loss: 0.1098 - accuracy: 0.9691 - val_loss: 2.4988 - val_accuracy: 0.5408\n",
            "Epoch 23/25\n",
            "301/301 [==============================] - 31s 103ms/step - loss: 0.1469 - accuracy: 0.9546 - val_loss: 2.3906 - val_accuracy: 0.5541\n",
            "Epoch 24/25\n",
            "301/301 [==============================] - 31s 102ms/step - loss: 0.0963 - accuracy: 0.9720 - val_loss: 2.6668 - val_accuracy: 0.5304\n",
            "Epoch 25/25\n",
            "301/301 [==============================] - 31s 103ms/step - loss: 0.0960 - accuracy: 0.9733 - val_loss: 2.5625 - val_accuracy: 0.5450\n"
          ]
        }
      ]
    },
    {
      "cell_type": "code",
      "metadata": {
        "colab": {
          "base_uri": "https://localhost:8080/",
          "height": 663
        },
        "id": "HcOF4c6f0G2W",
        "outputId": "44444372-e0c0-4bf6-cb03-d332e91645d9"
      },
      "source": [
        "# plotting losses and accuracy of train and validation\n",
        "plt.style.use('dark_background')\n",
        "\n",
        "plt.figure(figsize=(20,10))\n",
        "plt.subplot(1, 2, 1)\n",
        "plt.suptitle('Optimizer : Adam', fontsize=10)\n",
        "plt.ylabel('Loss', fontsize=16)\n",
        "plt.plot(history.history['loss'], label='Training Loss')\n",
        "plt.plot(history.history['val_loss'], label='Validation Loss')\n",
        "plt.legend(loc='upper right')\n",
        "\n",
        "plt.subplot(1, 2, 2)\n",
        "plt.ylabel('Accuracy', fontsize=16)\n",
        "plt.plot(history.history['accuracy'], label='Training Accuracy')\n",
        "plt.plot(history.history['val_accuracy'], label='Validation Accuracy')\n",
        "plt.legend(loc='lower right')\n",
        "plt.show()"
      ],
      "execution_count": 35,
      "outputs": [
        {
          "output_type": "display_data",
          "data": {
            "image/png": "[encoded data removed]",
            "text/plain": [
              "<Figure size 1440x720 with 2 Axes>"
            ]
          },
          "metadata": {}
        }
      ]
    },
    {
      "cell_type": "code",
      "metadata": {
        "id": "65w0Nqciq7LX"
      },
      "source": [
        "# saving the model as a .h5 file\n",
        "model.save('model_final.h5')"
      ],
      "execution_count": 36,
      "outputs": []
    },
    {
      "cell_type": "code",
      "metadata": {
        "colab": {
          "base_uri": "https://localhost:8080/"
        },
        "id": "ktB77qvxH3Ji",
        "outputId": "92bdb1fb-e7aa-490f-86b1-d638eb72b4d0"
      },
      "source": [
        "model.save('model_final.json')"
      ],
      "execution_count": 37,
      "outputs": [
        {
          "output_type": "stream",
          "name": "stdout",
          "text": [
            "INFO:tensorflow:Assets written to: model_final.json/assets\n"
          ]
        }
      ]
    },
    {
      "cell_type": "code",
      "metadata": {
        "colab": {
          "base_uri": "https://localhost:8080/",
          "height": 17
        },
        "id": "ThhySzXoLjFa",
        "outputId": "1c6b0386-0d97-4dc2-fb3c-9cb753daae71"
      },
      "source": [
        "model_json = model.to_json()\n",
        "with open(\"model1.json\",\"w\") as json_file:\n",
        "     json_file.write(model_json)\n",
        "\n",
        "files.download(\"model1.json\")"
      ],
      "execution_count": 41,
      "outputs": [
        {
          "output_type": "display_data",
          "data": {
            "application/javascript": [
              "\n",
              "    async function download(id, filename, size) {\n",
              "      if (!google.colab.kernel.accessAllowed) {\n",
              "        return;\n",
              "      }\n",
              "      const div = document.createElement('div');\n",
              "      const label = document.createElement('label');\n",
              "      label.textContent = `Downloading \"${filename}\": `;\n",
              "      div.appendChild(label);\n",
              "      const progress = document.createElement('progress');\n",
              "      progress.max = size;\n",
              "      div.appendChild(progress);\n",
              "      document.body.appendChild(div);\n",
              "\n",
              "      const buffers = [];\n",
              "      let downloaded = 0;\n",
              "\n",
              "      const channel = await google.colab.kernel.comms.open(id);\n",
              "      // Send a message to notify the kernel that we're ready.\n",
              "      channel.send({})\n",
              "\n",
              "      for await (const message of channel.messages) {\n",
              "        // Send a message to notify the kernel that we're ready.\n",
              "        channel.send({})\n",
              "        if (message.buffers) {\n",
              "          for (const buffer of message.buffers) {\n",
              "            buffers.push(buffer);\n",
              "            downloaded += buffer.byteLength;\n",
              "            progress.value = downloaded;\n",
              "          }\n",
              "        }\n",
              "      }\n",
              "      const blob = new Blob(buffers, {type: 'application/binary'});\n",
              "      const a = document.createElement('a');\n",
              "      a.href = window.URL.createObjectURL(blob);\n",
              "      a.download = filename;\n",
              "      div.appendChild(a);\n",
              "      a.click();\n",
              "      div.remove();\n",
              "    }\n",
              "  "
            ],
            "text/plain": [
              "<IPython.core.display.Javascript object>"
            ]
          },
          "metadata": {}
        },
        {
          "output_type": "display_data",
          "data": {
            "application/javascript": [
              "download(\"download_460a83dc-5e01-4c99-a4ff-7a78c9650009\", \"model1.json\", 6769)"
            ],
            "text/plain": [
              "<IPython.core.display.Javascript object>"
            ]
          },
          "metadata": {}
        }
      ]
    },
    {
      "cell_type": "markdown",
      "metadata": {
        "id": "4DhgG6UrDZ5F"
      },
      "source": [
        "# Testing "
      ]
    },
    {
      "cell_type": "code",
      "metadata": {
        "id": "mUp8DUalw1HA"
      },
      "source": [
        "# Testing with different images\n",
        "import cv2\n",
        "test_img = cv2.imread('/content/drive/MyDrive/facial expression/dwayne (1).jpg', 0)"
      ],
      "execution_count": null,
      "outputs": []
    },
    {
      "cell_type": "code",
      "metadata": {
        "colab": {
          "base_uri": "https://localhost:8080/"
        },
        "id": "wl6ptlcCw-k6",
        "outputId": "c385eeff-a7e6-4518-83c6-e75c99e96623"
      },
      "source": [
        "test_img.shape"
      ],
      "execution_count": null,
      "outputs": [
        {
          "output_type": "execute_result",
          "data": {
            "text/plain": [
              "(840, 441)"
            ]
          },
          "metadata": {},
          "execution_count": 42
        }
      ]
    },
    {
      "cell_type": "code",
      "metadata": {
        "colab": {
          "base_uri": "https://localhost:8080/"
        },
        "id": "P_B0BUZzxDdo",
        "outputId": "28790614-bc40-46d9-c33f-f18f8b2b8882"
      },
      "source": [
        "test_img = cv2.resize(test_img, (48,48))\n",
        "test_img.shape"
      ],
      "execution_count": null,
      "outputs": [
        {
          "output_type": "execute_result",
          "data": {
            "text/plain": [
              "(48, 48)"
            ]
          },
          "metadata": {},
          "execution_count": 43
        }
      ]
    },
    {
      "cell_type": "code",
      "metadata": {
        "id": "sOYUlFtOxFki"
      },
      "source": [
        "test_img = test_img.reshape(1,48,48,1)"
      ],
      "execution_count": null,
      "outputs": []
    },
    {
      "cell_type": "markdown",
      "metadata": {
        "id": "9M3NtMOVEmEN"
      },
      "source": [
        "Actual image is angry and prediction is also angry"
      ]
    },
    {
      "cell_type": "code",
      "metadata": {
        "colab": {
          "base_uri": "https://localhost:8080/"
        },
        "id": "r5aFqyMSxHyT",
        "outputId": "4ef72d6d-8f4d-416d-fdd1-393e3b7f195e"
      },
      "source": [
        "#angry face predicting\n",
        "model.predict(test_img)"
      ],
      "execution_count": null,
      "outputs": [
        {
          "output_type": "execute_result",
          "data": {
            "text/plain": [
              "array([[1., 0., 0., 0., 0., 0.]], dtype=float32)"
            ]
          },
          "metadata": {},
          "execution_count": 45
        }
      ]
    },
    {
      "cell_type": "markdown",
      "metadata": {
        "id": "gyXjeugvxNao"
      },
      "source": [
        "# label_map = ['Anger', 'Neutral', 'Fear', 'Happy', 'Sad', 'Surprise']"
      ]
    },
    {
      "cell_type": "code",
      "metadata": {
        "id": "x8J5kxn9xJxg"
      },
      "source": [
        "test_img2 = cv2.imread(\"/content/drive/MyDrive/happy_face.jpg\",0)"
      ],
      "execution_count": null,
      "outputs": []
    },
    {
      "cell_type": "code",
      "metadata": {
        "colab": {
          "base_uri": "https://localhost:8080/"
        },
        "id": "UnvHojEgxacp",
        "outputId": "c74d36ac-585d-4536-8af5-af7f7de3d76d"
      },
      "source": [
        "test_img2.shape"
      ],
      "execution_count": null,
      "outputs": [
        {
          "output_type": "execute_result",
          "data": {
            "text/plain": [
              "(339, 509)"
            ]
          },
          "metadata": {},
          "execution_count": 47
        }
      ]
    },
    {
      "cell_type": "code",
      "metadata": {
        "colab": {
          "base_uri": "https://localhost:8080/"
        },
        "id": "E-gi15oVxcf1",
        "outputId": "610cb09c-9986-4248-a547-546c04510d9e"
      },
      "source": [
        "test_img2 = cv2.resize(test_img2, (48,48))\n",
        "test_img2.shape"
      ],
      "execution_count": null,
      "outputs": [
        {
          "output_type": "execute_result",
          "data": {
            "text/plain": [
              "(48, 48)"
            ]
          },
          "metadata": {},
          "execution_count": 48
        }
      ]
    },
    {
      "cell_type": "code",
      "metadata": {
        "id": "Uzgk_5syxhtT"
      },
      "source": [
        "test_img2 = test_img2.reshape(1,48,48,1)"
      ],
      "execution_count": null,
      "outputs": []
    },
    {
      "cell_type": "markdown",
      "metadata": {
        "id": "qLNtcocUEXYf"
      },
      "source": [
        "Actual image is happy and prediction image is also happy"
      ]
    },
    {
      "cell_type": "code",
      "metadata": {
        "colab": {
          "base_uri": "https://localhost:8080/"
        },
        "id": "iKHyT_Kqxkxl",
        "outputId": "953834b5-e7a7-4493-f7ff-af2eb007fa0c"
      },
      "source": [
        "#Happy face predicting\n",
        "model.predict(test_img2)"
      ],
      "execution_count": null,
      "outputs": [
        {
          "output_type": "execute_result",
          "data": {
            "text/plain": [
              "array([[0., 0., 0., 1., 0., 0.]], dtype=float32)"
            ]
          },
          "metadata": {},
          "execution_count": 50
        }
      ]
    },
    {
      "cell_type": "code",
      "metadata": {
        "id": "yFO2z6HyBK1O"
      },
      "source": [
        ""
      ],
      "execution_count": null,
      "outputs": []
    }
  ]
}